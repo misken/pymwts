{
 "metadata": {
  "name": "TacticalTourSchedModelsGetBig"
 },
 "nbformat": 3,
 "nbformat_minor": 0,
 "worksheets": [
  {
   "cells": [
    {
     "cell_type": "markdown",
     "metadata": {},
     "source": [
      "For years I've worked on various staff scheduling problems that arise in healthcare institutions. At their core, many such problems can be modeled as a type of optimizaiton problem called a *tour scheduling* problem. Generally speaking, a *tour* specifies a set of days worked along with a set of shifts worked on those days over some scheduling horizon. For example, for a one week horizon (let Sunday be day 1) and if every person must work 5 out of the 7 days, one tour might look **[Off,8:00a-4:00p,8:00a-4:00p,8:00a-4:00p,8:00a-4:00p,8:00a-4:00p,Off]**. Another might look like this: **[8:00a-4:00p,8:00a-4:00p,8:00a-4:00p,8:00a-4:00p,8:00a-4:00p,Off,Off]**. In what I call *tactical tour scheduling* models, there are variables in these models which represent the number of people working each allowable tour. ..."
     ]
    },
    {
     "cell_type": "code",
     "collapsed": false,
     "input": [
      "import pandas as pd\n",
      "import numpy as np\n",
      "import matplotlib.pyplot as plt"
     ],
     "language": "python",
     "metadata": {},
     "outputs": [],
     "prompt_number": 1
    },
    {
     "cell_type": "code",
     "collapsed": false,
     "input": [
      "import itertools"
     ],
     "language": "python",
     "metadata": {},
     "outputs": [],
     "prompt_number": 2
    },
    {
     "cell_type": "code",
     "collapsed": false,
     "input": [
      "nweeks = 4\n",
      "nwkdays = 5"
     ],
     "language": "python",
     "metadata": {},
     "outputs": []
    }
   ],
   "metadata": {}
  }
 ]
}